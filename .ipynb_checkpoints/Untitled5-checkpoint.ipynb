{
 "cells": [
  {
   "cell_type": "code",
   "execution_count": 1,
   "id": "91c4906f",
   "metadata": {},
   "outputs": [
    {
     "name": "stdout",
     "output_type": "stream",
     "text": [
      "                                           Deskripsi  Nominal Verifikasi\n",
      "0                                     Pembayaran SHF      200        SHF\n",
      "1                                Pembayaran S    H F      200        SHF\n",
      "2  Pembyaran S                                   ...      210        SHF\n",
      "3                                          abcabcabc      250        SHF\n",
      "4                        settlement cabang jabotabek      200    BUF/BUP\n",
      "\n",
      "Data points used for testing:\n",
      "             Deskripsi  Nominal Verifikasi\n",
      "0  Pembayaran S    H F      200        SHF\n",
      "1   sett      tle ment      300    BUF/BUP\n",
      "2              fiducia  2001000    fidusia\n",
      "3              pinalty  2000000    pinalty\n",
      "4                umk 3  2000000       umk3\n",
      "\n",
      "y_test original indices:\n",
      "RangeIndex(start=0, stop=5, step=1)\n",
      "\n",
      "\n",
      "\n",
      "Accuracy: 1.00\n",
      "\n",
      "Classification Report:\n",
      "              precision    recall  f1-score   support\n",
      "\n",
      "     BUF/BUP       1.00      1.00      1.00         1\n",
      "         SHF       1.00      1.00      1.00         1\n",
      "     fidusia       1.00      1.00      1.00         1\n",
      "     pinalty       1.00      1.00      1.00         1\n",
      "        umk3       1.00      1.00      1.00         1\n",
      "\n",
      "    accuracy                           1.00         5\n",
      "   macro avg       1.00      1.00      1.00         5\n",
      "weighted avg       1.00      1.00      1.00         5\n",
      "\n"
     ]
    }
   ],
   "source": [
    "# Import libraries\n",
    "import pandas as pd\n",
    "from sklearn.model_selection import train_test_split\n",
    "from sklearn.feature_extraction.text import CountVectorizer\n",
    "from sklearn.ensemble import RandomForestClassifier\n",
    "from sklearn.metrics import accuracy_score, classification_report\n",
    "\n",
    "# Read data from CSV\n",
    "df = pd.read_csv('dummy.csv')\n",
    "\n",
    "# Display the first few rows of the dataframe\n",
    "print(df.head())\n",
    "\n",
    "# Identify unique categories\n",
    "unique_categories = df['Verifikasi'].unique()\n",
    "\n",
    "# Initialize empty dataframes for training and testing\n",
    "df_train = pd.DataFrame()\n",
    "df_test = pd.DataFrame()\n",
    "\n",
    "# Select one data point per category for testing\n",
    "for category in unique_categories:\n",
    "    # Get one data point for testing\n",
    "    one_data_point = df[df['Verifikasi'] == category].sample(1, random_state=42)\n",
    "    \n",
    "    # Add to testing set\n",
    "    df_test = pd.concat([df_test, one_data_point], ignore_index=True)\n",
    "    \n",
    "    # Add the rest to the training set\n",
    "    df_train = pd.concat([df_train, df[df['Verifikasi'] != category]], ignore_index=True)\n",
    "\n",
    "# Display the data points used for testing\n",
    "print(\"\\nData points used for testing:\")\n",
    "print(df_test)\n",
    "\n",
    "# Display original indices of y_test before splitting\n",
    "print(\"\\ny_test original indices:\")\n",
    "print(df_test.index)\n",
    "print('\\n')\n",
    "\n",
    "# Text Preprocessing\n",
    "vectorizer = CountVectorizer()\n",
    "X_text_train = vectorizer.fit_transform(df_train['Deskripsi'])\n",
    "X_text_test = vectorizer.transform(df_test['Deskripsi'])\n",
    "\n",
    "# Combine text features with numerical features\n",
    "X_train = pd.concat([pd.DataFrame(X_text_train.toarray()), df_train[['Nominal']].astype(str)], axis=1)\n",
    "X_test = pd.concat([pd.DataFrame(X_text_test.toarray()), df_test[['Nominal']].astype(str)], axis=1)\n",
    "\n",
    "# Convert column names to strings\n",
    "X_train.columns = X_train.columns.astype(str)\n",
    "X_test.columns = X_test.columns.astype(str)\n",
    "\n",
    "# Split the data\n",
    "y_train = df_train['Verifikasi']\n",
    "y_test = df_test['Verifikasi']\n",
    "\n",
    "# Random Forest Model\n",
    "rf_model = RandomForestClassifier(random_state=42)\n",
    "rf_model.fit(X_train, y_train)\n",
    "\n",
    "# Prediction\n",
    "y_pred = rf_model.predict(X_test)\n",
    "\n",
    "# Evaluation\n",
    "accuracy = accuracy_score(y_test, y_pred)\n",
    "print(f'\\nAccuracy: {accuracy:.2f}')\n",
    "\n",
    "print('\\nClassification Report:')\n",
    "print(classification_report(y_test, y_pred))\n"
   ]
  },
  {
   "cell_type": "code",
   "execution_count": 2,
   "id": "6d92442f",
   "metadata": {},
   "outputs": [
    {
     "name": "stdout",
     "output_type": "stream",
     "text": [
      "80\n"
     ]
    }
   ],
   "source": [
    "print(len(df_train))"
   ]
  },
  {
   "cell_type": "code",
   "execution_count": null,
   "id": "9ab37d76",
   "metadata": {},
   "outputs": [],
   "source": []
  }
 ],
 "metadata": {
  "kernelspec": {
   "display_name": "Python 3 (ipykernel)",
   "language": "python",
   "name": "python3"
  },
  "language_info": {
   "codemirror_mode": {
    "name": "ipython",
    "version": 3
   },
   "file_extension": ".py",
   "mimetype": "text/x-python",
   "name": "python",
   "nbconvert_exporter": "python",
   "pygments_lexer": "ipython3",
   "version": "3.11.5"
  }
 },
 "nbformat": 4,
 "nbformat_minor": 5
}
