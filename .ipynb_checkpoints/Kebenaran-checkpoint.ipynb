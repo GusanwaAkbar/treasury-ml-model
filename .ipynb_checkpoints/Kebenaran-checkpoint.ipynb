{
 "cells": [
  {
   "cell_type": "code",
   "execution_count": 1,
   "id": "39cd17a0",
   "metadata": {},
   "outputs": [
    {
     "name": "stdout",
     "output_type": "stream",
     "text": [
      "                                           Deskripsi  Nominal Verifikasi\n",
      "0                                     Pembayaran SHF      200        SHF\n",
      "1                                Pembayaran S    H F      210        SHF\n",
      "2  Pembyaran S                                   ...      200        SHF\n",
      "3                                          abcabcabc      200        SHF\n",
      "4                        settlement cabang jabotabek      250    BUF/BUP\n",
      "\n",
      "Test Data:\n",
      "                      Deskripsi  Nominal Verifikasi\n",
      "0                Pembayaran SHF      200        SHF\n",
      "4   settlement cabang jabotabek      250    BUF/BUP\n",
      "8                       fiducia  2000000    fidusia\n",
      "12                      pinalti  1000000    pinalty\n",
      "16                        umk 3  1000000       umk3\n",
      "=========\n",
      "Prediksi\n",
      "====================\n",
      "SHF\n",
      "SHF\n",
      "fidusia\n",
      "BUF/BUP\n",
      "umk3\n",
      "\n",
      "Accuracy on Test Data: 0.60\n",
      "\n",
      "Classification Report on Test Data:\n",
      "              precision    recall  f1-score   support\n",
      "\n",
      "     BUF/BUP       0.00      0.00      0.00         1\n",
      "         SHF       0.50      1.00      0.67         1\n",
      "     fidusia       1.00      1.00      1.00         1\n",
      "     pinalty       0.00      0.00      0.00         1\n",
      "        umk3       1.00      1.00      1.00         1\n",
      "\n",
      "    accuracy                           0.60         5\n",
      "   macro avg       0.50      0.60      0.53         5\n",
      "weighted avg       0.50      0.60      0.53         5\n",
      "\n"
     ]
    },
    {
     "name": "stderr",
     "output_type": "stream",
     "text": [
      "/home/gusanwa/.local/lib/python3.11/site-packages/sklearn/metrics/_classification.py:1471: UndefinedMetricWarning: Precision and F-score are ill-defined and being set to 0.0 in labels with no predicted samples. Use `zero_division` parameter to control this behavior.\n",
      "  _warn_prf(average, modifier, msg_start, len(result))\n",
      "/home/gusanwa/.local/lib/python3.11/site-packages/sklearn/metrics/_classification.py:1471: UndefinedMetricWarning: Precision and F-score are ill-defined and being set to 0.0 in labels with no predicted samples. Use `zero_division` parameter to control this behavior.\n",
      "  _warn_prf(average, modifier, msg_start, len(result))\n",
      "/home/gusanwa/.local/lib/python3.11/site-packages/sklearn/metrics/_classification.py:1471: UndefinedMetricWarning: Precision and F-score are ill-defined and being set to 0.0 in labels with no predicted samples. Use `zero_division` parameter to control this behavior.\n",
      "  _warn_prf(average, modifier, msg_start, len(result))\n"
     ]
    }
   ],
   "source": [
    "import pandas as pd\n",
    "from sklearn.model_selection import train_test_split\n",
    "from sklearn.feature_extraction.text import CountVectorizer\n",
    "from sklearn.ensemble import RandomForestClassifier\n",
    "from sklearn.metrics import accuracy_score, classification_report\n",
    "\n",
    "# Read data from CSV\n",
    "df = pd.read_csv('dummy.csv')\n",
    "\n",
    "# Display the first few rows of the dataframe\n",
    "print(df.head())\n",
    "\n",
    "# Initialize empty dataframes for training and testing\n",
    "df_train = pd.DataFrame()\n",
    "df_test = pd.DataFrame()\n",
    "\n",
    "# Select one random data point per category for testing\n",
    "for category in df['Verifikasi'].unique():\n",
    "    # Get all data points for the current category\n",
    "    category_data = df[df['Verifikasi'] == category]\n",
    "    \n",
    "    # Split the data for testing and training\n",
    "    category_train, category_test = train_test_split(category_data, test_size=0.25, random_state=92)\n",
    "    \n",
    "    # Add to training set\n",
    "    df_train = pd.concat([df_train, category_train])\n",
    "    \n",
    "    # Add to testing set\n",
    "    df_test = pd.concat([df_test, category_test])\n",
    "\n",
    "# Display the test data\n",
    "print(\"\\nTest Data:\")\n",
    "print(df_test)\n",
    "\n",
    "# Display the training data\n",
    "#print(\"\\nTraining Data:\")\n",
    "#print(df_train)\n",
    "\n",
    "# Text Preprocessing\n",
    "vectorizer = CountVectorizer()\n",
    "X_text_train = vectorizer.fit_transform(df_train['Deskripsi'])\n",
    "X_text_test = vectorizer.transform(df_test['Deskripsi'])\n",
    "\n",
    "# Combine text features with numerical features\n",
    "X_train = pd.concat([pd.DataFrame(X_text_train.toarray()), df_train[['Nominal']].astype(str).reset_index(drop=True)], axis=1)\n",
    "X_test = pd.concat([pd.DataFrame(X_text_test.toarray()), df_test[['Nominal']].astype(str).reset_index(drop=True)], axis=1)\n",
    "\n",
    "# Convert column names to strings\n",
    "X_train.columns = X_train.columns.astype(str)\n",
    "X_test.columns = X_test.columns.astype(str)\n",
    "\n",
    "# Handle missing values in numerical features\n",
    "X_train = X_train.fillna(0)  # Replace NaN with 0 for simplicity\n",
    "X_test = X_test.fillna(0)\n",
    "\n",
    "# Random Forest Model\n",
    "rf_model = RandomForestClassifier(random_state=42)\n",
    "rf_model.fit(X_train, df_train['Verifikasi'])\n",
    "\n",
    "# Prediction\n",
    "y_pred = rf_model.predict(X_test)\n",
    "print(\"=========\")\n",
    "print(\"Prediksi\")\n",
    "print(\"====================\")\n",
    "for x in y_pred:\n",
    "    print(x)\n",
    "\n",
    "# Evaluation\n",
    "accuracy = accuracy_score(df_test['Verifikasi'], y_pred)\n",
    "print(f'\\nAccuracy on Test Data: {accuracy:.2f}')\n",
    "\n",
    "print('\\nClassification Report on Test Data:')\n",
    "print(classification_report(df_test['Verifikasi'], y_pred))\n"
   ]
  },
  {
   "cell_type": "code",
   "execution_count": 2,
   "id": "ef314cbb",
   "metadata": {},
   "outputs": [
    {
     "name": "stdout",
     "output_type": "stream",
     "text": [
      "['SHF' 'SHF' 'fidusia' 'BUF/BUP' 'umk3']\n"
     ]
    }
   ],
   "source": [
    "print(y_pred)"
   ]
  },
  {
   "cell_type": "code",
   "execution_count": null,
   "id": "f0860c1e",
   "metadata": {},
   "outputs": [],
   "source": []
  }
 ],
 "metadata": {
  "kernelspec": {
   "display_name": "Python 3 (ipykernel)",
   "language": "python",
   "name": "python3"
  },
  "language_info": {
   "codemirror_mode": {
    "name": "ipython",
    "version": 3
   },
   "file_extension": ".py",
   "mimetype": "text/x-python",
   "name": "python",
   "nbconvert_exporter": "python",
   "pygments_lexer": "ipython3",
   "version": "3.11.5"
  }
 },
 "nbformat": 4,
 "nbformat_minor": 5
}
